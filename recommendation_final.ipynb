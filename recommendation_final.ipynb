{
  "cells": [
    {
      "cell_type": "code",
      "execution_count": null,
      "metadata": {
        "jupyter": {
          "outputs_hidden": false,
          "source_hidden": false
        },
        "nteract": {
          "transient": {
            "deleting": false
          }
        }
      },
      "outputs": [],
      "source": [
        "! pip install numpy\n",
        "! pip install openai==1.2.3\n",
        "! pip install pymongo\n",
        "! pip install python-dotenv\n",
        "! pip install prettytable"
      ]
    },
    {
      "cell_type": "markdown",
      "metadata": {},
      "source": [
        "## Set up"
      ]
    },
    {
      "cell_type": "code",
      "execution_count": 162,
      "metadata": {
        "gather": {
          "logged": 1712007427712
        },
        "jupyter": {
          "outputs_hidden": false,
          "source_hidden": false
        },
        "nteract": {
          "transient": {
            "deleting": false
          }
        }
      },
      "outputs": [],
      "source": [
        "from prettytable import PrettyTable\n",
        "import openai\n",
        "import pymongo\n",
        "\n",
        "from dotenv import dotenv_values\n",
        "from openai import AzureOpenAI\n",
        "\n",
        "env_name = \"myconfig.env\" \n",
        "config = dotenv_values(env_name)\n",
        "\n",
        "# Values for the two prediction functions\n",
        "manager_query = \"Snowboards used by Olympic champions\"\n",
        "manager_id = int(189)\n",
        "element_id = int(92) # Shaun White snowboard\n",
        "num_results = 10\n",
        "\n",
        "\n",
        "# Connection string\n",
        "cosmos_conn = config['cosmos_connection_string']\n",
        "cosmos_client = pymongo.MongoClient(cosmos_conn)\n",
        "\n",
        "# Database name\n",
        "database = cosmos_client[config['cosmos_database']]\n",
        "\n",
        "# Collection names\n",
        "actual_nodes = database[config['cosmos_actual_nodes']]\n",
        "predicted_nodes = database[config['cosmos_predicted_nodes']]\n",
        "element_catalog = database[config['cosmos_element_catalog']]\n",
        "\n",
        "# OpenAI\n",
        "openai.api_type = config['openai_type']\n",
        "openai.api_key = config['openai_api_key']\n",
        "openai.api_base = config['openai_api_endpoint']\n",
        "openai.api_version = config['openai_api_version']\n",
        "\n",
        "client = AzureOpenAI(\n",
        "    api_key=openai.api_key,\n",
        "    api_version=openai.api_version,\n",
        "    azure_endpoint = openai.api_base\n",
        ")"
      ]
    },
    {
      "cell_type": "code",
      "execution_count": 139,
      "metadata": {
        "gather": {
          "logged": 1711055304916
        },
        "jupyter": {
          "outputs_hidden": false,
          "source_hidden": false
        },
        "nteract": {
          "transient": {
            "deleting": false
          }
        }
      },
      "outputs": [],
      "source": [
        "def generate_embeddings(text):\n",
        "    \n",
        "    response = client.embeddings.create(\n",
        "        input=text, model=\"embeddings\") # need to read from config\n",
        "    \n",
        "    embeddings = response.data[0].embedding\n",
        "        \n",
        "    return embeddings"
      ]
    },
    {
      "cell_type": "code",
      "execution_count": 163,
      "metadata": {},
      "outputs": [],
      "source": [
        "def print_vector_search_results(results):\n",
        "    \n",
        "    print(\"---------Vector Search Results: --------\")\n",
        "\n",
        "    # Define the table\n",
        "    table = PrettyTable()\n",
        "    table.field_names = [\"element Id\", \"Name\", \"Cost\", \"Similarity Score\", \"node\"]\n",
        "\n",
        "    # Add rows to the table\n",
        "    for element in results:\n",
        "        table.add_row([\n",
        "            element['document']['Id'],\n",
        "            element['document']['Name'],\n",
        "            element['document']['Cost'],\n",
        "            element['similarityScore'],\n",
        "            element['document']['node']\n",
        "        ])\n",
        "\n",
        "    # Print the table\n",
        "    print(table)"
      ]
    },
    {
      "cell_type": "code",
      "execution_count": 166,
      "metadata": {},
      "outputs": [],
      "source": [
        "def print_predictions_from_element_page(results):\n",
        "    print(\"\\n--------Current Page Results: ---------\")\n",
        "\n",
        "    # Define the table\n",
        "    table = PrettyTable()\n",
        "    table.field_names = [\"element Id\", \"Name\", \"Cost\", \"node\"]\n",
        "\n",
        "    # Add rows to the table\n",
        "    for element in results:\n",
        "        table.add_row([\n",
        "            element['Id'],\n",
        "            element['Name'],\n",
        "            element['Cost'],\n",
        "            element['node']\n",
        "        ])\n",
        "\n",
        "    # Print the table\n",
        "    print(table)"
      ]
    },
    {
      "cell_type": "markdown",
      "metadata": {},
      "source": [
        "## element Recommendation Functions"
      ]
    },
    {
      "cell_type": "code",
      "execution_count": 176,
      "metadata": {},
      "outputs": [],
      "source": [
        "def predictions_from_current_element_page(manager_id, current_element_id, num_results=4):\n",
        "    \"\"\"\n",
        "    This function displays predicted elements for this manager excluding the current element.\n",
        "    \"\"\"\n",
        "    \n",
        "    # Get the predicted elements for the manager, limit results\n",
        "    manager_predicted_elements = predicted_nodes.find_one( \n",
        "        { \"ManagerId\": manager_id },\n",
        "        {\"Predictions\": {\"$slice\": num_results}})\n",
        "\n",
        "    # Remove the current element from the list\n",
        "    manager_predicted_elements = [prediction for prediction in manager_predicted_elements['Predictions']\n",
        "        if prediction['elementId'] != current_element_id]\n",
        "    \n",
        "    predicted_elements = []\n",
        "\n",
        "    # Look up recommended elements maintaining order of predicted nodes\n",
        "    for item in manager_predicted_elements:\n",
        "        element = element_catalog.find_one({\"Id\": item['elementId']})\n",
        "        if element:\n",
        "            predicted_elements.append(element)\n",
        "            predicted_elements[-1]['node'] = item['node']\n",
        "\n",
        "    predicted_elements = list(predicted_elements)\n",
        "\n",
        "    return predicted_elements"
      ]
    },
    {
      "cell_type": "code",
      "execution_count": 175,
      "metadata": {},
      "outputs": [
        {
          "name": "stdout",
          "output_type": "stream",
          "text": [
            "\n",
            "--------Current Page Results: ---------\n",
            "+------------+--------------------------------+--------+-------------------+\n",
            "| element Id |              Name              | Cost  |       node      |\n",
            "+------------+--------------------------------+--------+-------------------+\n",
            "|     42     | Gravity 5000 All-Mountain Skis | 699.0  |  7.15698766708374 |\n",
            "|     72     | GravityZone All-Mountain Skis  | 699.0  | 7.150111198425293 |\n",
            "|     22     |     Venture 2022 Snowboard     | 499.0  | 6.249397277832031 |\n",
            "|     62     |     Shadow Black Snowboard     | 379.0  | 5.958791732788086 |\n",
            "|     27     |  EcoLodge 45L Travel Backpack  | 129.0  | 5.905089378356934 |\n",
            "|     88     |   Alpine AlpinePack Backpack   | 129.0  | 5.895949363708496 |\n",
            "|     32     |    Cosmic Purple Snowboard     | 419.99 | 5.894195079803467 |\n",
            "|     53     |     Raven Swift Snowboard      | 349.0  | 5.818643569946289 |\n",
            "|     73     |    Omni-Snow Dual Snowboard    | 289.99 | 5.817547798156738 |\n",
            "+------------+--------------------------------+--------+-------------------+\n"
          ]
        }
      ],
      "source": [
        "# Test the Function above on predictions excluding the current element on page\n",
        "manager_id = int(189)\n",
        "element_id = int(92) # Shaun White snowboard\n",
        "num_results = 10\n",
        "\n",
        "# Predictions excluding the current element on page\n",
        "on_page_predictions = predictions_from_current_element_page(manager_id, element_id, num_results)\n",
        "print_predictions_from_element_page(on_page_predictions)\n"
      ]
    },
    {
      "cell_type": "code",
      "execution_count": 192,
      "metadata": {},
      "outputs": [],
      "source": [
        "def predictions_from_vector_search(manager_id, manager_query, num_results=10):\n",
        "    \"\"\" \n",
        "    This function takes a manager prompt search for elements and returns elements that are predicted for the manager. \n",
        "    \"\"\"\n",
        "    \n",
        "    # Generate the embedding for the manager query\n",
        "    query_embedding = generate_embeddings(manager_query)\n",
        "\n",
        "    # Get the predicted elements for the manager\n",
        "    predicted_elements = predicted_nodes.find_one( { \"ManagerId\": manager_id } )\n",
        "\n",
        "    # Convert to a dictionary\n",
        "    predicted_elements = {prediction['elementId']: prediction for prediction in predicted_elements['Predictions']}\n",
        "\n",
        "    # Filter criteria to include element ids from the predicted elements\n",
        "    filter_criteria = { \n",
        "        \"Id\": {\"$in\": list(predicted_elements.keys())}\n",
        "    }\n",
        "\n",
        "    results = element_catalog.aggregate([\n",
        "        {\n",
        "            '$search': {\n",
        "                \"cosmosSearch\": {\n",
        "                    \"vector\": query_embedding,\n",
        "                    \"path\": \"Embedding\",\n",
        "                    \"k\": num_results,\n",
        "                    \"filter\": filter_criteria\n",
        "                },\n",
        "                \"returnStoredSource\": True\n",
        "            }},\n",
        "        {\n",
        "            '$project': { 'similarityScore': { '$meta': 'searchScore' }, 'document' : '$$ROOT' }\n",
        "        }\n",
        "    ])\n",
        "\n",
        "    filtered_vector_search = list(results)\n",
        "\n",
        "    # Add the node field to the documents in filtered_vector_search\n",
        "    for document in filtered_vector_search:\n",
        "        element_id = document['document']['Id']\n",
        "        if element_id in predicted_elements:\n",
        "            document['document']['node'] = predicted_elements[element_id]['node']\n",
        "\n",
        "    # Remove the top vector search result. Add back after sorting by node\n",
        "    top_vector_result = filtered_vector_search.pop(0)\n",
        "    \n",
        "    # Sort the remaining results by node\n",
        "    sorted_vector_search = sorted(\n",
        "        filtered_vector_search,\n",
        "        key=lambda document: (-document['document'].get('node', 0)),\n",
        "        reverse=False\n",
        "    )\n",
        "\n",
        "    # Insert the top result at the beginning of the list\n",
        "    sorted_vector_search.insert(0, top_vector_result)\n",
        "\n",
        "    return sorted_vector_search"
      ]
    },
    {
      "cell_type": "code",
      "execution_count": 193,
      "metadata": {},
      "outputs": [
        {
          "name": "stdout",
          "output_type": "stream",
          "text": [
            "---------Vector Search Results: --------\n",
            "+------------+------------------------------+--------+--------------------+--------------------+\n",
            "| element Id |             Name             | Cost  |  Similarity Score  |       node       |\n",
            "+------------+------------------------------+--------+--------------------+--------------------+\n",
            "|     92     |             Element1         | 449.99 | 0.8480039834976196 | 6.024456977844238  |\n",
            "|     22     |             Element2         | 499.0  | 0.8239901485466837 | 5.9668755531311035 |\n",
            "|     62     |             Element3         | 379.0  | 0.8160758261703205 | 5.747269630432129  |\n",
            "|     32     |             Element4         | 419.99 | 0.8276490959702903 | 5.633471965789795  |\n",
            "|     53     |             Element5         | 349.0  | 0.8259191409301261 | 5.577742099761963  |\n",
            "|     73     |             Element6         | 289.99 | 0.8393915199870792 | 5.572394847869873  |\n",
            "|     60     |             Element7         | 249.0  | 0.8236519484105107 | 5.377709865570068  |\n",
            "|     83     |             Element8         | 379.0  | 0.8307854129756718 |  5.24691104888916  |\n",
            "|     43     |             Element9         | 419.99 | 0.8423815871704585 | 5.140812397003174  |\n",
            "|     5      |             Element10        | 299.99 | 0.8239789218927773 | 4.581834316253662  |\n",
            "+------------+------------------------------+--------+--------------------+--------------------+\n"
          ]
        }
      ],
      "source": [
        "# Test the function above for filtering vector search results with predicted elements\n",
        "\n",
        "manager_query = \"Node closest to element\"\n",
        "manager_id = int(189)\n",
        "num_results = 10\n",
        "\n",
        "# Vector Search with Predictions\n",
        "vector_search_with_predictions = predictions_from_vector_search(manager_id, manager_query, num_results)\n",
        "print_vector_search_results(vector_search_with_predictions)\n"
      ]
    },
    {
      "cell_type": "markdown",
      "metadata": {
        "nteract": {
          "transient": {
            "deleting": false
          }
        }
      },
      "source": []
    }
  ],
  "metadata": {
    "kernel_info": {
      "name": "python38-azureml"
    },
    "kernelspec": {
      "display_name": "Python 3",
      "language": "python",
      "name": "python3"
    },
    "language_info": {
      "codemirror_mode": {
        "name": "ipython",
        "version": 3
      },
      "file_extension": ".py",
      "mimetype": "text/x-python",
      "name": "python",
      "nbconvert_exporter": "python",
      "pygments_lexer": "ipython3",
      "version": "3.11.9"
    },
    "microsoft": {
      "host": {
        "AzureML": {
          "notebookHasBeenCompleted": true
        }
      },
      "ms_spell_check": {
        "ms_spell_check_language": "en"
      }
    },
    "nteract": {
      "version": "nteract-front-end@1.0.0"
    }
  },
  "nbformat": 4,
  "nbformat_minor": 2
}
