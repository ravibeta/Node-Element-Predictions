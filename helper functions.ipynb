{
  "cells": [
    {
      "cell_type": "code",
      "execution_count": null,
      "metadata": {},
      "outputs": [],
      "source": [
        "\n",
        "import pandas as pd\n",
        "\n",
        "# Assuming your JSON data is stored in a file named 'data.json'\n",
        "# If you have your JSON data as a string or in a different format, this step may vary\n",
        "json_file_path = 'catalog.json'\n",
        "df = pd.read_json(json_file_path)\n",
        "\n",
        "# Group items by 'Type' and aggregate information. For demonstration, we'll just list the Names of the items.\n",
        "# You can customize this aggregation to include other operations like counting items, averaging costs, etc.\n",
        "grouped_items = df.groupby('Type').agg({'Name': lambda x: list(x)})\n",
        "\n",
        "print(grouped_items)\n",
        "\n"
      ]
    },
    {
      "cell_type": "markdown",
      "metadata": {},
      "source": [
        "## Randomly rates 5-20 elements for 10000 Managers \n"
      ]
    },
    {
      "cell_type": "code",
      "execution_count": 13,
      "metadata": {},
      "outputs": [],
      "source": [
        "\n",
        "# Load the element catalog to get element IDs\n",
        "with open(\"./data/catalog/catalog_w_text3_emb.json\", \"r\") as file:\n",
        "    element_catalog = json.load(file)\n",
        "\n",
        "# Extract element IDs\n",
        "element_ids = [element[\"Id\"] for element in element_catalog]\n",
        "\n",
        "# Define a maximum number of elements a Manager can rate\n",
        "max_elements_per_manager = 20\n",
        "\n",
        "# Assuming a max rating value\n",
        "max_rating = 10\n",
        "\n",
        "# Define the number of Manager IDs you want\n",
        "num_Manager_ids = 10001\n",
        "\n",
        "# Generate Manager IDs from 1 to 10001\n",
        "current_Manager_ids = list(range(1, num_Manager_ids))\n",
        "\n",
        "current_ratings = []\n",
        "# Generate new ratings while ensuring not all elements are rated\n",
        "for Manager_id in current_Manager_ids:\n",
        "    # Randomly select a subset of elements to rate, respecting the max_elements_per_manager limit\n",
        "    num_elements_to_sample = np.random.randint(5,max_elements_per_manager)\n",
        "    elements_to_rate = random.sample(element_ids, min(len(element_ids), num_elements_to_sample))\n",
        "    \n",
        "    for element_id in elements_to_rate:\n",
        "        element_info = next((element for element in element_catalog if element[\"Id\"] == element_id), None)\n",
        "        if element_info:  # If element found\n",
        "            new_rating = {\n",
        "                \"ManagerId\": Manager_id,\n",
        "                \"ElementId\": element_id,\n",
        "                \"Rating\": random.randint(1, max_rating)\n",
        "            }\n",
        "            current_ratings.append(new_rating)\n",
        "\n",
        "# Convert the updated data to JSON format\n",
        "json_data = json.dumps(current_ratings, indent=4)\n",
        "\n",
        "# Write the updated JSON data to a new file\n",
        "with open(\"./data/ratings/randomRatings.json\", \"w\") as file:\n",
        "    file.write(json_data)"
      ]
    },
    {
      "cell_type": "markdown",
      "metadata": {},
      "source": [
        "## Verify random ratings created"
      ]
    },
    {
      "cell_type": "code",
      "execution_count": null,
      "metadata": {},
      "outputs": [],
      "source": [
        "import json\n",
        "\n",
        "# Load the updated ratings data\n",
        "with open(\"./data/ratings/actualRatings.json\", \"r\") as file:\n",
        "    ratings = json.load(file)\n",
        "\n",
        "# Count the number of items rated by each Manager\n",
        "ratings_count_by_Manager = {}\n",
        "for rating in ratings:\n",
        "    Manager_id = rating[\"ManagerId\"]\n",
        "    if Manager_id in ratings_count_by_Manager:\n",
        "        ratings_count_by_Manager[Manager_id] += 1\n",
        "    else:\n",
        "        ratings_count_by_Manager[Manager_id] = 1\n",
        "\n",
        "total_Manager_ids = len(ratings_count_by_Manager)\n",
        "\n",
        "# Print the total number of Manager IDs\n",
        "print(f\"Total number of Manager IDs: {total_Manager_ids}\")\n",
        "\n",
        "for Manager_id, count in ratings_count_by_Manager.items():\n",
        "    print(f\"Manager ID: {Manager_id} has rated {count} items.\")"
      ]
    },
    {
      "cell_type": "markdown",
      "metadata": {},
      "source": [
        "## Advanced Rating system\n",
        "Now taking in random ratings and giving it a pattern based on brand/ type/ cost. Storing it in a new file 'AugmentedRating'\n"
      ]
    },
    {
      "cell_type": "code",
      "execution_count": 15,
      "metadata": {},
      "outputs": [],
      "source": [
        "import json\n",
        "import random\n",
        "\n",
        "# Load the current Manager ratings\n",
        "with open(\"./data/ratings/randomRatings.json\", \"r\") as file:\n",
        "    current_ratings = json.load(file)\n",
        "\n",
        "# Load the element catalog\n",
        "with open(\"./data/catalog/catalog_w_text3_emb.json\", \"r\") as file:\n",
        "    element_catalog = json.load(file)\n",
        "\n",
        "total_desired_ratings = 200000\n",
        "# Define preferences\n",
        "brand_preferences = {\"Daybird\": 8, \"Gravitator\": 7, \"WildRunner\": 9, \"Quester\": 6, \"B&R\": 5, \"Raptor Elite\": 7, \"Solstix\": 8, \"Grolltex\": 6, \"AirStrider\": 7, \"Green Equipment\": 9, \"Legend\": 5, \"Zephyr\": 6, \"XE\": 4}\n",
        "type_preferences = [\"Footwear\", \"Climbing\", \"Ski/boarding\", \"Bags\", \"Jackets\", \"Navigation\", \"Cycling\", \"Trekking\"]\n",
        "\n",
        "curr = range(1, 10001)\n",
        "# Simulate Manager preferences for element types\n",
        "Manager_type_preferences = {Manager_id: random.sample(type_preferences, k=random.randint(1, len(type_preferences))) for Manager_id in curr}\n",
        "\n",
        "# Normalize cost to a 1-10 scale\n",
        "max_cost = max(element[\"Cost\"] for element in element_catalog)\n",
        "min_cost = min(element[\"Cost\"] for element in element_catalog)\n",
        "cost_range = max_cost - min_cost\n",
        "\n",
        "def normalize_cost(cost):\n",
        "    return 1 + (((cost - min_cost) / cost_range) * 9)\n",
        "\n",
        "# Function to calculate rating based on brand, type, and cost\n",
        "def calculate_rating(Manager_id, element):\n",
        "    cost_score = normalize_cost(element[\"Cost\"])\n",
        "    brand_score = brand_preferences.get(element[\"Brand\"], 5)  # Default to mid-preference\n",
        "    type_score = 10 if element[\"Type\"] in Manager_type_preferences[Manager_id] else 5\n",
        "    # Weighted average of the scores\n",
        "    return (cost_score * 0.4 + brand_score * 0.3 + type_score * 0.3)\n",
        "\n",
        "current = []\n",
        "# Generate new ratings considering Manager preferences\n",
        "for i in current_ratings:\n",
        "        Manager_id  = i[\"ManagerId\"]\n",
        "        element= element_catalog[i[\"ElementId\"]-1]\n",
        "        # Calculate new rating based on sophisticated algorithm\n",
        "        rating = calculate_rating(Manager_id, element)\n",
        "        new_rating = {\n",
        "            \"ManagerId\": Manager_id,\n",
        "            \"ElementId\": element[\"Id\"],\n",
        "            \"Rating\": round(rating, 2)  # Rounded for readability\n",
        "        }\n",
        "        current.append(new_rating)\n",
        "\n",
        "\n",
        "# Convert the updated data to JSON format\n",
        "json_data = json.dumps(current, indent=4)\n",
        "\n",
        "with open(\"./data/ratings/AugmentedRating.json\", \"w\") as file:\n",
        "    file.write(json_data)"
      ]
    }
  ],
  "metadata": {
    "kernel_info": {
      "name": "python38-azureml"
    },
    "kernelspec": {
      "display_name": "Python 3.8 - AzureML",
      "language": "python",
      "name": "python38-azureml"
    },
    "microsoft": {
      "ms_spell_check": {
        "ms_spell_check_language": "en"
      }
    },
    "nteract": {
      "version": "nteract-front-end@1.0.0"
    }
  },
  "nbformat": 4,
  "nbformat_minor": 2
}
